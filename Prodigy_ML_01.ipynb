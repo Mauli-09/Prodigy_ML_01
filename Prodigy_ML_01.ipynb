{
  "nbformat": 4,
  "nbformat_minor": 0,
  "metadata": {
    "colab": {
      "provenance": []
    },
    "kernelspec": {
      "name": "python3",
      "display_name": "Python 3"
    },
    "language_info": {
      "name": "python"
    }
  },
  "cells": [
    {
      "cell_type": "markdown",
      "source": [
        "**Implement a linear regression model to predict the prices of houses based on their square footage and the number of bedrooms and bathrooms**"
      ],
      "metadata": {
        "id": "DdgADBq4dFwQ"
      }
    },
    {
      "cell_type": "code",
      "source": [
        "# Import necessary libraries\n",
        "import pandas as pd\n",
        "from sklearn.model_selection import train_test_split\n",
        "from sklearn.linear_model import LinearRegression\n",
        "from sklearn.metrics import mean_squared_error, r2_score\n",
        "\n",
        "\n",
        "df = pd.read_csv('House Price Prediction Dataset.csv')\n",
        "print(df.describe())\n",
        "\n",
        "\n"
      ],
      "metadata": {
        "colab": {
          "base_uri": "https://localhost:8080/"
        },
        "id": "hgZOZ522dRSh",
        "outputId": "9e1187fb-b92a-49d8-9d4f-e00b1040ad3a"
      },
      "execution_count": 15,
      "outputs": [
        {
          "output_type": "stream",
          "name": "stdout",
          "text": [
            "                Id         Area     Bedrooms   Bathrooms       Floors  \\\n",
            "count  2000.000000  2000.000000  2000.000000  2000.00000  2000.000000   \n",
            "mean   1000.500000  2786.209500     3.003500     2.55250     1.993500   \n",
            "std     577.494589  1295.146799     1.424606     1.10899     0.809188   \n",
            "min       1.000000   501.000000     1.000000     1.00000     1.000000   \n",
            "25%     500.750000  1653.000000     2.000000     2.00000     1.000000   \n",
            "50%    1000.500000  2833.000000     3.000000     3.00000     2.000000   \n",
            "75%    1500.250000  3887.500000     4.000000     4.00000     3.000000   \n",
            "max    2000.000000  4999.000000     5.000000     4.00000     3.000000   \n",
            "\n",
            "         YearBuilt          Price  \n",
            "count  2000.000000    2000.000000  \n",
            "mean   1961.446000  537676.855000  \n",
            "std      35.926695  276428.845719  \n",
            "min    1900.000000   50005.000000  \n",
            "25%    1930.000000  300098.000000  \n",
            "50%    1961.000000  539254.000000  \n",
            "75%    1993.000000  780086.000000  \n",
            "max    2023.000000  999656.000000  \n"
          ]
        }
      ]
    },
    {
      "cell_type": "code",
      "source": [
        "X = data[['Area', 'Bedrooms', 'Bathrooms']]\n",
        "y = data['Price']\n",
        "\n",
        "# Split the data into training and testing sets\n",
        "X_train, X_test, y_train, y_test = train_test_split(X, y, test_size=0.2, random_state=42)\n",
        "\n",
        "# Initialize and train the linear regression model\n",
        "model = LinearRegression()\n",
        "model.fit(X_train, y_train)\n",
        "\n",
        "# Make predictions on the test set\n",
        "y_pred = model.predict(X_test)\n",
        "\n",
        "# Evaluate the model\n",
        "mse = mean_squared_error(y_test, y_pred)\n",
        "r2 = r2_score(y_test, y_pred)\n",
        "\n",
        "# Print evaluation metrics\n",
        "print(\"Mean Squared Error:\", mse)\n",
        "print(\"R-squared:\", r2)\n",
        "\n"
      ],
      "metadata": {
        "colab": {
          "base_uri": "https://localhost:8080/"
        },
        "id": "ePhBQFf1jV-Y",
        "outputId": "d33fbc10-3699-473f-b34e-319e52b34913"
      },
      "execution_count": 14,
      "outputs": [
        {
          "output_type": "stream",
          "name": "stdout",
          "text": [
            "Mean Squared Error: 78440549944.81049\n",
            "R-squared: -0.008248471565956539\n"
          ]
        }
      ]
    }
  ]
}